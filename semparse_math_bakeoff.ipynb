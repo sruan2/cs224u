{
 "cells": [
  {
   "cell_type": "markdown",
   "metadata": {},
   "source": [
    "# Bake-off: Learning an alien language"
   ]
  },
  {
   "cell_type": "code",
   "execution_count": 1,
   "metadata": {},
   "outputs": [],
   "source": [
    "__author__ = \"Chris Potts\"\n",
    "__version__ = \"CS224u, Stanford, Spring 2018 term\""
   ]
  },
  {
   "cell_type": "markdown",
   "metadata": {},
   "source": [
    "## Contents\n",
    "\n",
    "0. [Set-up](#Set-up)\n",
    "0. [The doomsday scenario](#The-doomsday-scenario)\n",
    "0. [The data](#The-data)\n",
    "0. [Objective 1: Oracle accuracy](#Objective-1:-Oracle-accuracy)\n",
    "0. [Objective 2: Predictive accuracy](#Objective-2:-Predictive-accuracy)\n",
    "0. [Bake-off submission](#Bake-off-submission)\n",
    "0. [Objective 3: The translation function](#Objective-3:-The-translation-function)"
   ]
  },
  {
   "cell_type": "markdown",
   "metadata": {},
   "source": [
    "## Set-up\n",
    "\n",
    "0. Make sure the `sys.path.append` value is the path to your local [SippyCup repository](https://github.com/wcmac/sippycup). (Alternatively, you can add SippyCup to your Python path; see one of the teaching team if you'd like to do that but aren't sure how.)\n",
    "\n",
    "0. Make sure that [semparse_math_bakeoff_data.py](semparse_math_bakeoff_data.py) is in the current directory (or available via your Python path)."
   ]
  },
  {
   "cell_type": "code",
   "execution_count": 2,
   "metadata": {},
   "outputs": [],
   "source": [
    "from copy import copy\n",
    "import random\n",
    "import sys\n",
    "sys.path.append('../fork/sippycup')"
   ]
  },
  {
   "cell_type": "markdown",
   "metadata": {},
   "source": [
    "## The doomsday scenario\n",
    "\n",
    "It's an indeterminate time in the future. An alien invasion is imminent.  We have intercepted many of the aliens'  transmissions and begun the process of decoding their language. Luckily, we have found a small database of alien  language statements paired with numbers that seem to be the denotations of  those statements. \n",
    "\n",
    "Linguists, working tirelessly, have translated the numbers into standard arabic notation, but they have made little headway in understanding the meanings of the words and phrases in the statements. Standard bag-of-words classifiers were little help with the high-dimensional output space.\n",
    "\n",
    "You've been called in personally by World President Zahara Jolie-Pitt-Kardashian to complete the translation task. Your goal is to use the available data to induce a lexicon mapping alien words to their associated mathematical concepts. Time is of the essence."
   ]
  },
  {
   "cell_type": "markdown",
   "metadata": {},
   "source": [
    "## The data"
   ]
  },
  {
   "cell_type": "markdown",
   "metadata": {},
   "source": [
    "The data are available in `semparse_math_bakeoff_data.py`, which contains two lists of SippyCup `Example` instances:"
   ]
  },
  {
   "cell_type": "code",
   "execution_count": 3,
   "metadata": {},
   "outputs": [],
   "source": [
    "from semparse_math_bakeoff_data import mathbake_train, mathbake_dev"
   ]
  },
  {
   "cell_type": "markdown",
   "metadata": {},
   "source": [
    "Let's check out some examples:"
   ]
  },
  {
   "cell_type": "code",
   "execution_count": 6,
   "metadata": {},
   "outputs": [
    {
     "name": "stdout",
     "output_type": "stream",
     "text": [
      "thouch scincs sklofg thouch sherle 1\n",
      "thouch scincs sniese scwokt thouch sherle sklofg fribbs -1\n",
      "scwokt volms sniese thouch kugns 2\n",
      "thouch kugns sniese sherle 4\n",
      "thouch kugns sklofg scwokt scincs -5\n"
     ]
    }
   ],
   "source": [
    "for i in range(5):\n",
    "    ex = mathbake_train[random.randint(0, len(mathbake_train))]\n",
    "    print(ex.input, ex.denotation)"
   ]
  },
  {
   "cell_type": "markdown",
   "metadata": {},
   "source": [
    "## Objective 1: Oracle accuracy"
   ]
  },
  {
   "cell_type": "markdown",
   "metadata": {},
   "source": [
    "To start, the goal should be to create a grammar that can find at least one parse with the correct denotation. With that done, we can rely on features and our training data to find weights that favor the correct parses."
   ]
  },
  {
   "cell_type": "markdown",
   "metadata": {},
   "source": [
    "The other linguists on the team have extracted the vocabulary, and they can say with confidence that the words in the grammar can be classified as follows:"
   ]
  },
  {
   "cell_type": "code",
   "execution_count": 26,
   "metadata": {},
   "outputs": [],
   "source": [
    "integers = ['fribbs', 'volms', 'scincs', 'kugns', 'glarc', 'sherle']\n",
    "predicates = ['sniese', 'thouch', 'sklofg', 'scwokt']"
   ]
  },
  {
   "cell_type": "markdown",
   "metadata": {},
   "source": [
    "We can begin building a crude grammar on this basis. We'll start with an empty one:"
   ]
  },
  {
   "cell_type": "code",
   "execution_count": 27,
   "metadata": {},
   "outputs": [
    {
     "name": "stdout",
     "output_type": "stream",
     "text": [
      "Created grammar with 0 rules\n"
     ]
    }
   ],
   "source": [
    "import itertools\n",
    "from parsing import Grammar\n",
    "\n",
    "# Increasing this value will increase your chances of finding \n",
    "# correct parses, but it will slow everything down.\n",
    "import parsing\n",
    "parsing.MAX_CELL_CAPACITY = 1000\n",
    "\n",
    "gram = Grammar(start_symbol='$E') "
   ]
  },
  {
   "cell_type": "markdown",
   "metadata": {},
   "source": [
    "To start, we assume that the integers all have their denotations somewhere in the interval [0,5], and we consider every hypothesis of that form:"
   ]
  },
  {
   "cell_type": "code",
   "execution_count": 28,
   "metadata": {},
   "outputs": [],
   "source": [
    "from parsing import Rule, add_rule\n",
    "\n",
    "for w, i in itertools.product(integers, range(len(integers))):\n",
    "    add_rule(gram, Rule('$E', w, i))"
   ]
  },
  {
   "cell_type": "markdown",
   "metadata": {},
   "source": [
    "We assume also that there are unary and binary operators, so we add those combination rules:"
   ]
  },
  {
   "cell_type": "code",
   "execution_count": 29,
   "metadata": {},
   "outputs": [],
   "source": [
    "# Unary connective, as in English \"minus one\":\n",
    "add_rule(gram, Rule('$E', '$UnOp $E', lambda sems: (sems[0], sems[1])))\n",
    "\n",
    "# First stage of binary connective, as in English \"two plus\":\n",
    "add_rule(gram, Rule('$EBO', '$E $BinOp', lambda sems: (sems[1], sems[0])))\n",
    "\n",
    "# Second stage of binary connective, as in English \"(two plus) seven\":\n",
    "add_rule(gram, Rule('$E', '$EBO $E', lambda sems: (sems[0][0], sems[0][1], sems[1])))"
   ]
  },
  {
   "cell_type": "markdown",
   "metadata": {},
   "source": [
    "Determining the semantic space of the operators is harder. The executor from SippyCup's `arithmetic.py` seems like a reasonable place to start:"
   ]
  },
  {
   "cell_type": "code",
   "execution_count": 30,
   "metadata": {},
   "outputs": [],
   "source": [
    "unary_ops = {\n",
    "    '~': lambda x: -x\n",
    "}\n",
    "\n",
    "binary_ops = {\n",
    "    '+': lambda x, y: x + y,\n",
    "    '-': lambda x, y: x - y,\n",
    "    '*': lambda x, y: x * y\n",
    "}\n",
    "\n",
    "##################################################\n",
    "#### Consider extending one or both ops dicts ####\n",
    "\n",
    "\n",
    "ops = {key: val for key, val in itertools.chain(unary_ops.items(), binary_ops.items())}\n",
    "\n",
    "def execute(semantics):\n",
    "    if isinstance(semantics, tuple):\n",
    "        op = ops[semantics[0]]\n",
    "        args = [execute(arg) for arg in semantics[1:]]\n",
    "        return op(*args)\n",
    "    else:\n",
    "        return semantics"
   ]
  },
  {
   "cell_type": "markdown",
   "metadata": {},
   "source": [
    "__TO DO__: Bring in the words in `predicates`, in the form of a set of grammar rules like those we added for the integers. Since you don't yet know whether the predicates are unary or binary, you'll have to add rules that allow for all possible meanings."
   ]
  },
  {
   "cell_type": "code",
   "execution_count": 34,
   "metadata": {},
   "outputs": [],
   "source": [
    "##################################################\n",
    "########## Add your operators rules here ######### \n",
    "for pred in predicates:\n",
    "    add_rule(gram, Rule('$UnOp', pred, '~'))\n",
    "    for binary_op in binary_ops.keys():\n",
    "        add_rule(gram, Rule('$BinOp', pred, binary_op))"
   ]
  },
  {
   "cell_type": "markdown",
   "metadata": {},
   "source": [
    "If all is going well, the vast majority of sentences of the alien language should now have a parse with a correct denotation. That is, our oracle accuracy should be at least 80%. (In fact, if it is this high, it is probably 100% but the target sometimes wasn't included in the sample of parses found during search.)"
   ]
  },
  {
   "cell_type": "code",
   "execution_count": 35,
   "metadata": {},
   "outputs": [],
   "source": [
    "from parsing import parse_input\n",
    "\n",
    "def check_oracle_accuracy(grammar=None, examples=mathbake_train, verbose=True):\n",
    "    oracle = 0\n",
    "    for ex in examples:\n",
    "        # All the denotations for all the parses:\n",
    "        dens = [execute(parse.semantics) for parse in gram.parse_input(ex.input)]\n",
    "        if ex.denotation in dens:\n",
    "            oracle += 1\n",
    "        elif verbose:\n",
    "            print(\"=\" * 70)\n",
    "            print(ex.input)\n",
    "            print(set(dens))\n",
    "            print(ex.denotation)\n",
    "    percent_correct = int(round((oracle/float(len(examples)))*100, 0))\n",
    "    print(\"Oracle accuracy: %s / %s (%s%%)\" % (oracle, len(examples), percent_correct))"
   ]
  },
  {
   "cell_type": "code",
   "execution_count": 36,
   "metadata": {},
   "outputs": [
    {
     "name": "stdout",
     "output_type": "stream",
     "text": [
      "Max cell capacity 1000 has been hit 1 times\n",
      "Max cell capacity 1000 has been hit 2 times\n",
      "Max cell capacity 1000 has been hit 4 times\n",
      "Max cell capacity 1000 has been hit 8 times\n",
      "Max cell capacity 1000 has been hit 16 times\n",
      "Max cell capacity 1000 has been hit 32 times\n",
      "Max cell capacity 1000 has been hit 64 times\n",
      "Max cell capacity 1000 has been hit 128 times\n",
      "Max cell capacity 1000 has been hit 256 times\n",
      "Oracle accuracy: 196 / 200 (98%)\n"
     ]
    }
   ],
   "source": [
    "check_oracle_accuracy(grammar=gram, examples=mathbake_train, verbose=False)"
   ]
  },
  {
   "cell_type": "markdown",
   "metadata": {
    "collapsed": true
   },
   "source": [
    "If your oracle accuracy isn't above 80%, then consider expanding the space of operators defined by `ops` and expanding the space of rules accordingly. __There's no guarantee that the alien language uses precisely the operators given by `ops`!__ (Hint: it would be a lot of trouble to deal with operators that could return non-`int` values.)"
   ]
  },
  {
   "cell_type": "markdown",
   "metadata": {
    "collapsed": true
   },
   "source": [
    "## Objective 2: Predictive accuracy\n",
    "\n",
    "Your grammar is now successful in that it finds correct parses and associated denotations for the alien language. However, World President Zahara Jolie-Pitt-Kardashian is unlikely to be impressed, because you can't tell her _which_ denotation is correct, and so you can't induce a translation lexicon either. To address this, we need to find feature weights that are effective at using the training data to identify the best hypotheses allowed by the grammar."
   ]
  },
  {
   "cell_type": "markdown",
   "metadata": {},
   "source": [
    "We can start with the core features given by `scoring.rule_features`:"
   ]
  },
  {
   "cell_type": "code",
   "execution_count": 41,
   "metadata": {},
   "outputs": [],
   "source": [
    "from scoring import Model, rule_features\n",
    "from arithmetic import ArithmeticDomain # A source of more feature functions!\n",
    "\n",
    "def arithmetic_features(parse):\n",
    "    features = rule_features(parse)\n",
    "    \n",
    "    # Consider adding to the features dict based on properties of\n",
    "    # parse and/or parse.semantics. SippyCup's `ArithmeticDomain`\n",
    "    # has a method `operator_precedence_features` that might be\n",
    "    # helpful here, for example.\n",
    "    def collect_features(semantics, features):\n",
    "        if isinstance(semantics, tuple):\n",
    "            for child in semantics[1:]:\n",
    "                collect_features(child, features)\n",
    "                if isinstance(child, tuple) and child[0] != semantics[0]:\n",
    "                    features[(child[0], semantics[0])] += 1.0\n",
    "    collect_features(parse.semantics, features)\n",
    "    \n",
    "    return features"
   ]
  },
  {
   "cell_type": "markdown",
   "metadata": {},
   "source": [
    "__TO DO__: Improve on the features returned by `arithmetic_features`."
   ]
  },
  {
   "cell_type": "markdown",
   "metadata": {},
   "source": [
    "Now can build and train the model."
   ]
  },
  {
   "cell_type": "code",
   "execution_count": 42,
   "metadata": {},
   "outputs": [],
   "source": [
    "model = Model(grammar=gram, feature_fn=arithmetic_features, executor=execute)"
   ]
  },
  {
   "cell_type": "markdown",
   "metadata": {},
   "source": [
    "__TO DO__: Improve on the optimizer settings!"
   ]
  },
  {
   "cell_type": "code",
   "execution_count": 53,
   "metadata": {},
   "outputs": [
    {
     "name": "stdout",
     "output_type": "stream",
     "text": [
      "================================================================================\n",
      "Running SGD learning on 200 examples with training metric: denotation accuracy\n",
      "\n",
      "iter. 1; err. 208.2511380; AdaGrad mag. 1.5036566; train acc. 0.1100\n",
      "iter. 2; err. 202.3809684; AdaGrad mag. 0.3814672; train acc. 0.1500\n",
      "iter. 3; err. 201.2492504; AdaGrad mag. 0.2047421; train acc. 0.1750\n",
      "iter. 4; err. 200.5210087; AdaGrad mag. 0.1526896; train acc. 0.1300\n",
      "iter. 5; err. 199.8433145; AdaGrad mag. 0.1170238; train acc. 0.1350\n",
      "iter. 6; err. 199.4795954; AdaGrad mag. 0.0937204; train acc. 0.1600\n",
      "iter. 7; err. 199.2091374; AdaGrad mag. 0.0775641; train acc. 0.1550\n",
      "iter. 8; err. 199.6262320; AdaGrad mag. 0.0973685; train acc. 0.0950\n",
      "iter. 9; err. 198.8929657; AdaGrad mag. 0.0596885; train acc. 0.1600\n",
      "iter. 10; err. 198.8621853; AdaGrad mag. 0.0581261; train acc. 0.1600\n",
      "iter. 11; err. 198.7260040; AdaGrad mag. 0.0536265; train acc. 0.1600\n",
      "iter. 12; err. 198.5420950; AdaGrad mag. 0.0495199; train acc. 0.1200\n",
      "Max cell capacity 1000 has been hit 16384 times\n",
      "iter. 13; err. 198.3315194; AdaGrad mag. 0.0386682; train acc. 0.1600\n",
      "iter. 14; err. 198.1339629; AdaGrad mag. 0.0377970; train acc. 0.1550\n",
      "iter. 15; err. 198.1335775; AdaGrad mag. 0.0339248; train acc. 0.1600\n",
      "iter. 16; err. 198.1806573; AdaGrad mag. 0.0331522; train acc. 0.1100\n",
      "iter. 17; err. 198.2408677; AdaGrad mag. 0.0321598; train acc. 0.1100\n",
      "iter. 18; err. 198.1910506; AdaGrad mag. 0.0331658; train acc. 0.1050\n",
      "iter. 19; err. 198.0364863; AdaGrad mag. 0.0282710; train acc. 0.1000\n",
      "iter. 20; err. 198.0912398; AdaGrad mag. 0.0274959; train acc. 0.1250\n",
      "\n",
      "Top 20 and bottom 20 feature weights:\n",
      "    0.02\tRule('$BinOp', 'sniese', '-')\n",
      "    0.02\t('-', '+')\n",
      "    0.01\t('*', '+')\n",
      "    0.01\tRule('$E', 'scincs', 3)\n",
      "    0.01\tRule('$E', 'glarc', 1)\n",
      "    0.01\tRule('$BinOp', 'sklofg', '+')\n",
      "    0.01\tRule('$E', 'volms', 3)\n",
      "    0.01\tRule('$E', 'kugns', 2)\n",
      "    0.01\tRule('$E', 'fribbs', 3)\n",
      "    0.01\tRule('$E', 'sherle', 2)\n",
      "    0.00\tRule('$BinOp', 'sklofg', '-')\n",
      "    0.00\tRule('$E', 'volms', 4)\n",
      "    0.00\t('~', '*')\n",
      "    0.00\tRule('$E', 'scincs', 0)\n",
      "    0.00\tRule('$E', 'kugns', 0)\n",
      "    0.00\tRule('$E', 'sherle', 5)\n",
      "    0.00\tRule('$E', 'fribbs', 1)\n",
      "    0.00\tRule('$BinOp', 'sniese', '+')\n",
      "    0.00\tRule('$E', 'sherle', 4)\n",
      "    0.00\tRule('$E', 'sherle', 3)\n",
      "     ...\t...\n",
      "   -0.00\tRule('$E', 'glarc', 5)\n",
      "   -0.00\tRule('$E', 'glarc', 0)\n",
      "   -0.00\tRule('$E', 'scincs', 2)\n",
      "   -0.00\tRule('$E', 'kugns', 5)\n",
      "   -0.00\tRule('$E', 'fribbs', 0)\n",
      "   -0.00\t('+', '~')\n",
      "   -0.00\tRule('$E', 'scincs', 4)\n",
      "   -0.00\tRule('$E', 'glarc', 4)\n",
      "   -0.00\t('~', '-')\n",
      "   -0.00\t('-', '~')\n",
      "   -0.00\tRule('$E', 'kugns', 1)\n",
      "   -0.00\tRule('$E', 'fribbs', 2)\n",
      "   -0.00\tRule('$E', 'sherle', 1)\n",
      "   -0.00\tRule('$E', 'sherle', 0)\n",
      "   -0.01\t('*', '~')\n",
      "   -0.01\tRule('$E', 'scincs', 1)\n",
      "   -0.01\tRule('$BinOp', 'sklofg', '*')\n",
      "   -0.01\t('+', '-')\n",
      "   -0.01\tRule('$E', 'volms', 0)\n",
      "   -0.02\tRule('$BinOp', 'sniese', '*')\n",
      "\n"
     ]
    }
   ],
   "source": [
    "from learning import latent_sgd\n",
    "from metrics import DenotationAccuracyMetric\n",
    "\n",
    "##################################################\n",
    "#### Consider improving the optimizer settings ###\n",
    "\n",
    "trained_model = latent_sgd(\n",
    "    model, \n",
    "    mathbake_train,\n",
    "    training_metric=DenotationAccuracyMetric(), \n",
    "    T=5, \n",
    "    loss='hinge',\n",
    "    l2_penalty=0.3,\n",
    "    eta=0.1)"
   ]
  },
  {
   "cell_type": "markdown",
   "metadata": {},
   "source": [
    "Now that the model is trained, we can evaluate it on the held-out data:"
   ]
  },
  {
   "cell_type": "code",
   "execution_count": 54,
   "metadata": {},
   "outputs": [
    {
     "name": "stdout",
     "output_type": "stream",
     "text": [
      "================================================================================\n",
      "Evaluating on 50 Dev examples\n",
      "\n",
      "--------------------------------------------------------------------------------\n",
      "Over 50 examples:\n",
      "\n",
      "denotation accuracy                0.060\n",
      "denotation oracle accuracy         1.000\n",
      "number of parses                   814.320\n",
      "spurious ambiguity                 0.678\n",
      "\n"
     ]
    }
   ],
   "source": [
    "from experiment import evaluate_model\n",
    "from metrics import denotation_match_metrics\n",
    "\n",
    "evaluate_model(\n",
    "    model=trained_model, \n",
    "    examples=mathbake_dev, \n",
    "    examples_label=\"Dev\",\n",
    "    metrics=denotation_match_metrics(),\n",
    "    print_examples=False)"
   ]
  },
  {
   "cell_type": "markdown",
   "metadata": {},
   "source": [
    "Results:\n",
    "\n",
    "l2 penalty = 0.1, eta = 0.5, T = 5: 0.060\n",
    "l2 penalty = 0.1, eta = 0.1, T = 5: 0.120\n",
    "l2 penalty = 0.5, eta = 0.1, T = 5: 0.080\n",
    "l2 penalty = 0.3, eta = 0.1, T = 5: 0.160\n",
    "l2 penalty = 0.3, eta = 0.1, T = 20: 0.060"
   ]
  },
  {
   "cell_type": "markdown",
   "metadata": {},
   "source": [
    "## Bake-off submission\n",
    "\n",
    "1. Enter your \"denotation accuracy\" score (non-oracle) from the above into the bake-off.\n",
    "1. Enter a description of the feature functions and optimization settings you used.\n",
    "\n",
    "Submission URL: https://goo.gl/forms/DCVvih3prRRa06ov2"
   ]
  },
  {
   "cell_type": "markdown",
   "metadata": {},
   "source": [
    "## Objective 3: The translation function"
   ]
  },
  {
   "cell_type": "markdown",
   "metadata": {},
   "source": [
    "Our primary objective was to learn how to translate the alien language into our own language for math (basic arithmetic). To see how well we did, we can look at the weights the classifier learned for the core rule-based features."
   ]
  },
  {
   "cell_type": "code",
   "execution_count": null,
   "metadata": {},
   "outputs": [],
   "source": [
    "from operator import itemgetter\n",
    "from collections import defaultdict\n",
    "\n",
    "def view_lexical_features(weights):\n",
    "    # Get the lexical features:        \n",
    "    feats = [(featname, val) for featname, val in weights.items() \n",
    "             if val > 0.0 and isinstance(featname, str) and featname.startswith('Rule')]\n",
    "    # Get the core parts:\n",
    "    lex = defaultdict(list)\n",
    "    for featname, val in feats:\n",
    "        r = eval(featname)\n",
    "        lex[r.rhs[0]].append((r.sem, val))    \n",
    "    # Restrict to the highest weights for each feature:\n",
    "    for w, vals in lex.items():\n",
    "        maxval = max([x[1] for x in vals])\n",
    "        vals = [x for x in vals if x[1]==maxval]\n",
    "        lex[w] = vals  \n",
    "    # Printout sorted by our own semantic operators:\n",
    "    for featname, vals in sorted(lex.items(), key=(lambda item: str(item[1]))):\n",
    "        for val in vals:\n",
    "            print(\"'%s' means %s (weight %0.02f)\" % (featname, val[0], val[1]))"
   ]
  },
  {
   "cell_type": "code",
   "execution_count": null,
   "metadata": {},
   "outputs": [],
   "source": [
    "view_lexical_features(trained_model.weights)"
   ]
  },
  {
   "cell_type": "markdown",
   "metadata": {},
   "source": [
    "__Are you correct?__ \n",
    "\n",
    "[Paste in your output from view_lexical_features here to find out!](https://web.stanford.edu/class/cs224u/cgi-bin/mathbake/)\n",
    "\n",
    "(Paste in the entire output as printed in the cell above; the script that checks the input is pretty strict about the formatting.)\n",
    "\n",
    "This isn't part of the bake-off submission. The stakes are higher here!"
   ]
  }
 ],
 "metadata": {
  "kernelspec": {
   "display_name": "Python 3",
   "language": "python",
   "name": "python3"
  },
  "language_info": {
   "codemirror_mode": {
    "name": "ipython",
    "version": 3
   },
   "file_extension": ".py",
   "mimetype": "text/x-python",
   "name": "python",
   "nbconvert_exporter": "python",
   "pygments_lexer": "ipython3",
   "version": "3.6.3"
  }
 },
 "nbformat": 4,
 "nbformat_minor": 1
}
