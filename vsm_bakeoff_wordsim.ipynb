{
 "cells": [
  {
   "cell_type": "markdown",
   "metadata": {},
   "source": [
    "# Bake-off: Word similarity tasks"
   ]
  },
  {
   "cell_type": "code",
   "execution_count": 2,
   "metadata": {},
   "outputs": [],
   "source": [
    "__author__ = \"Christopher Potts\"\n",
    "__version__ = \"CS224u, Stanford, Spring 2018 term\""
   ]
  },
  {
   "cell_type": "markdown",
   "metadata": {},
   "source": [
    "## Contents\n",
    "\n",
    "0. [Overview](#Overview)\n",
    "0. [Evaluation](#Evaluation)\n",
    "0. [Set-up](#Set-up)\n",
    "0. [Dataset readers](#Dataset-readers)\n",
    "0. [Evaluation](#Evaluation)\n",
    "0. [Baseline](#Baseline)\n",
    "0. [Bake-off submission](#Bake-off-submission)"
   ]
  },
  {
   "cell_type": "markdown",
   "metadata": {},
   "source": [
    "## Overview\n",
    "\n",
    "Word similarity datasets have long been used to evaluate distributed representations. This section provides basic code for conducting such analyses with four datasets:\n",
    "\n",
    "* [WordSim-353](http://www.cs.technion.ac.il/~gabr/resources/data/wordsim353/)\n",
    "* MTurk-287\n",
    "* [MTurk-771](http://www2.mta.ac.il/~gideon/mturk771.html)\n",
    "* [The MEN Test Collection](http://clic.cimec.unitn.it/~elia.bruni/MEN) (3,000 pairs)\n",
    "\n",
    "For the first three, the numeral in its name is the number of pairs it contains.\n",
    "\n",
    "If you want to push this task further, consider using additional datasets from http://wordvectors.org/ and perhaps even taking advantage of the evaluation infrastructure it provides. (For additional details, see [the associated paper](http://www.aclweb.org/anthology/P/P14/P14-5004.pdf).)"
   ]
  },
  {
   "cell_type": "markdown",
   "metadata": {},
   "source": [
    "## Evaluation\n",
    "\n",
    "1. Each of the similarity datasets contains word pairs with an associated human-annotated similarity score. (We convert these to distances to align intuitively with our distance measure functions.)\n",
    "\n",
    "1. The evaluation code measures the distance between the word pairs in your chosen VSM (should be a `pd.DataFrame`).\n",
    "\n",
    "1. The evaluation metric is the Spearman correlation coefficient between the annotated scores and your distances.\n",
    "\n",
    "1. We also macro-average these correlations across the four datasets for an overall summary.\n",
    "\n",
    "Based on my reading of the literature, I'd say that the best VSMs report scores in this range:\n",
    "\n",
    "| Dataset       | Competitive scores |\n",
    "|---------------|--------------------|\n",
    "| WordSim-353   | ≈0.75        |\n",
    "| MTurk-287     | ≈0.75        |\n",
    "| MTurk-771     | ≈0.75        |\n",
    "| MEN           | ≈0.70        |\n",
    "\n",
    "Your scores won't quite be comparable because you'll be missing a few vocabulary items, but these are still good targets."
   ]
  },
  {
   "cell_type": "markdown",
   "metadata": {},
   "source": [
    "## Set-up"
   ]
  },
  {
   "cell_type": "code",
   "execution_count": 3,
   "metadata": {},
   "outputs": [],
   "source": [
    "from collections import defaultdict\n",
    "import csv\n",
    "import numpy as np\n",
    "import os\n",
    "import pandas as pd\n",
    "from scipy.stats import spearmanr\n",
    "import vsm"
   ]
  },
  {
   "cell_type": "code",
   "execution_count": 4,
   "metadata": {},
   "outputs": [],
   "source": [
    "data_home = 'vsmdata'\n",
    "\n",
    "wordsim_home = os.path.join('vsmdata', 'wordsim')"
   ]
  },
  {
   "cell_type": "markdown",
   "metadata": {},
   "source": [
    "## Dataset readers"
   ]
  },
  {
   "cell_type": "code",
   "execution_count": 5,
   "metadata": {},
   "outputs": [],
   "source": [
    "def wordsim_dataset_reader(src_filename, header=False, delimiter=','):    \n",
    "    \"\"\"Basic reader that works for all four files, since they all have the \n",
    "    format word1,word2,score, differing only in whether or not they include \n",
    "    a header line and what delimiter they use.\n",
    "    \n",
    "    Parameters\n",
    "    ----------\n",
    "    src_filename : str\n",
    "        Full path to the source file.        \n",
    "    header : bool (default: False)\n",
    "        Whether `src_filename` has a header.        \n",
    "    delimiter : str (default: ',')\n",
    "        Field delimiter in `src_filename`.\n",
    "    \n",
    "    Yields\n",
    "    ------    \n",
    "    (str, str, float)\n",
    "       (w1, w2, score) where `score` is the negative of the similarity \n",
    "       score in the file so that we are intuitively aligned with our \n",
    "       distance-based code.\n",
    "    \n",
    "    \"\"\"\n",
    "    with open(src_filename) as f:\n",
    "        reader = csv.reader(f, delimiter=delimiter)\n",
    "        if header:\n",
    "            next(reader)\n",
    "        for row in reader:\n",
    "            w1, w2, score = row\n",
    "            # Negative of scores to align intuitively with distance functions:\n",
    "            score = -float(score)\n",
    "            yield (w1, w2, score)\n",
    "\n",
    "def wordsim353_reader():\n",
    "    \"\"\"WordSim-353: http://www.cs.technion.ac.il/~gabr/resources/data/wordsim353/\"\"\"\n",
    "    src_filename = os.path.join(wordsim_home, 'wordsim353.csv')\n",
    "    return wordsim_dataset_reader(src_filename, header=True)\n",
    " \n",
    "def mturk287_reader():\n",
    "    \"\"\"MTurk-287: http://tx.technion.ac.il/~kirar/Datasets.html\"\"\"\n",
    "    src_filename = os.path.join(wordsim_home, 'MTurk-287.csv')\n",
    "    return wordsim_dataset_reader(src_filename, header=False)\n",
    "    \n",
    "def mturk771_reader():\n",
    "    \"\"\"MTURK-771: http://www2.mta.ac.il/~gideon/mturk771.html\"\"\"\n",
    "    src_filename = os.path.join(wordsim_home, 'MTURK-771.csv')\n",
    "    return wordsim_dataset_reader(src_filename, header=False)\n",
    "\n",
    "def men_reader():\n",
    "    \"\"\"MEN: http://clic.cimec.unitn.it/~elia.bruni/MEN\"\"\"\n",
    "    src_filename = os.path.join(wordsim_home, 'MEN_dataset_natural_form_full')\n",
    "    return wordsim_dataset_reader(src_filename, header=False, delimiter=' ')   "
   ]
  },
  {
   "cell_type": "markdown",
   "metadata": {
    "collapsed": true
   },
   "source": [
    "## Evaluation"
   ]
  },
  {
   "cell_type": "code",
   "execution_count": 6,
   "metadata": {},
   "outputs": [],
   "source": [
    "def word_similarity_evaluation(reader, df, distfunc=vsm.cosine, verbose=True):\n",
    "    \"\"\"Word-similarity evalution framework.\n",
    "    \n",
    "    Parameters\n",
    "    ----------\n",
    "    reader : iterator\n",
    "        A reader for a word-similarity dataset. Just has to yield\n",
    "        tuples (word1, word2, score).    \n",
    "    df : pd.DataFrame\n",
    "        The VSM being evaluated.        \n",
    "    distfunc : function mapping vector pairs to floats (default: `vsm.cosine`)\n",
    "        The measure of distance between vectors. Can also be `vsm.euclidean`, \n",
    "        `vsm.matching`, `vsm.jaccard`, as well as any other distance measure \n",
    "        between 1d vectors.  \n",
    "    verbose : bool\n",
    "        Whether to print information about how much of the vocab\n",
    "        `df` covers.\n",
    "    \n",
    "    Prints\n",
    "    ------\n",
    "    To standard output\n",
    "        Size of the vocabulary overlap between the evaluation set and\n",
    "        rownames. We limit the evalation to the overlap, paying no price\n",
    "        for missing words (which is not fair, but it's reasonable given\n",
    "        that we're working with very small VSMs in this notebook).\n",
    "    \n",
    "    Returns\n",
    "    -------\n",
    "    float\n",
    "        The Spearman rank correlation coefficient between the dataset\n",
    "        scores and the similarity values obtained from `mat` using \n",
    "        `distfunc`. This evaluation is sensitive only to rankings, not\n",
    "        to absolute values.\n",
    "    \n",
    "    \"\"\"    \n",
    "    sims = defaultdict(list)\n",
    "    rownames = df.index\n",
    "    vocab = set()    \n",
    "    excluded = set()\n",
    "    for w1, w2, score in reader():\n",
    "        if w1 in rownames and w2 in rownames:\n",
    "            sims[w1].append((w2, score))\n",
    "            sims[w2].append((w1, score))\n",
    "            vocab |= {w1, w2}\n",
    "        else:\n",
    "            excluded |= {w1, w2}\n",
    "    all_words = vocab | excluded\n",
    "    if verbose:\n",
    "        print(\"Evaluation vocab: {:,} of {:,}\".format(len(vocab), len(all_words)))\n",
    "    # Evaluate the matrix by creating a vector of all_scores for data\n",
    "    # and all_dists for mat's distances. \n",
    "    all_scores = []\n",
    "    all_dists = []\n",
    "    for word in vocab:\n",
    "        vec = df.loc[word]\n",
    "        vals = sims[word]\n",
    "        cmps, scores = zip(*vals)\n",
    "        all_scores += scores\n",
    "        all_dists += [distfunc(vec, df.loc[w]) for w in cmps]\n",
    "    rho, pvalue = spearmanr(all_scores, all_dists)\n",
    "    return rho"
   ]
  },
  {
   "cell_type": "markdown",
   "metadata": {},
   "source": [
    "Evaluation is then simple. The following lets us evaluate a VSM against all four datasets:"
   ]
  },
  {
   "cell_type": "code",
   "execution_count": 7,
   "metadata": {},
   "outputs": [],
   "source": [
    "def full_word_similarity_evaluation(df, verbose=True):\n",
    "    \"\"\"Evaluate a VSM against all four datasets.\n",
    "    \n",
    "    Parameters\n",
    "    ----------\n",
    "    df : pd.DataFrame\n",
    "    \n",
    "    Returns\n",
    "    -------\n",
    "    dict\n",
    "        Mapping dataset names to Spearman r values\n",
    "        \n",
    "    \"\"\"        \n",
    "    scores = {}\n",
    "    for reader in (wordsim353_reader, mturk287_reader, mturk771_reader, men_reader):        \n",
    "        if verbose: \n",
    "            print(\"=\"*40)\n",
    "            print(reader.__name__)\n",
    "        score = word_similarity_evaluation(reader, df, verbose=verbose)\n",
    "        scores[reader.__name__] = score\n",
    "        if verbose:            \n",
    "            print('Spearman r: {0:0.03f}'.format(score))\n",
    "    mu = np.array(list(scores.values())).mean()\n",
    "    if verbose:\n",
    "        print(\"=\"*40)\n",
    "        print(\"Mean Spearman r: {0:0.03f}\".format(mu))\n",
    "    return scores"
   ]
  },
  {
   "cell_type": "markdown",
   "metadata": {},
   "source": [
    "## Baseline\n",
    "\n",
    "My baseline is PPMI on `imdb20`:"
   ]
  },
  {
   "cell_type": "code",
   "execution_count": 8,
   "metadata": {},
   "outputs": [],
   "source": [
    "imdb20 = pd.read_csv(\n",
    "    os.path.join(data_home, \"imdb_window20-flat.csv.gz\"), index_col=0)"
   ]
  },
  {
   "cell_type": "code",
   "execution_count": 9,
   "metadata": {},
   "outputs": [],
   "source": [
    "imdb20_ppmi = vsm.pmi(imdb20)"
   ]
  },
  {
   "cell_type": "code",
   "execution_count": 10,
   "metadata": {},
   "outputs": [
    {
     "name": "stdout",
     "output_type": "stream",
     "text": [
      "========================================\n",
      "wordsim353_reader\n",
      "Evaluation vocab: 418 of 437\n",
      "Spearman r: 0.469\n",
      "========================================\n",
      "mturk287_reader\n",
      "Evaluation vocab: 499 of 499\n",
      "Spearman r: 0.599\n",
      "========================================\n",
      "mturk771_reader\n",
      "Evaluation vocab: 1,113 of 1,113\n",
      "Spearman r: 0.462\n",
      "========================================\n",
      "men_reader\n",
      "Evaluation vocab: 751 of 751\n",
      "Spearman r: 0.572\n",
      "========================================\n",
      "Mean Spearman r: 0.525\n"
     ]
    },
    {
     "data": {
      "text/plain": [
       "{'wordsim353_reader': 0.46888766456156583,\n",
       " 'mturk287_reader': 0.5986597600532505,\n",
       " 'mturk771_reader': 0.4615212813179131,\n",
       " 'men_reader': 0.5724487594295152}"
      ]
     },
     "execution_count": 10,
     "metadata": {},
     "output_type": "execute_result"
    }
   ],
   "source": [
    "full_word_similarity_evaluation(imdb20_ppmi, verbose=True)"
   ]
  },
  {
   "cell_type": "markdown",
   "metadata": {},
   "source": [
    "## Bake-off submission\n",
    "\n",
    "1. The name of the count matrix you started with (must be one in `vsmdata`).\n",
    "1. A description of the steps you took to create your bake-off VSM – must be different from the above baseline.\n",
    "1. Your Spearman r value for each of the four evaluation datasets and your average across all four.\n",
    "\n",
    "Submission URL: https://goo.gl/forms/eJWHpwJlOyDEC3V63"
   ]
  },
  {
   "cell_type": "markdown",
   "metadata": {},
   "source": [
    "## Sherry's Code"
   ]
  },
  {
   "cell_type": "markdown",
   "metadata": {},
   "source": [
    "#### Giga20"
   ]
  },
  {
   "cell_type": "code",
   "execution_count": 42,
   "metadata": {},
   "outputs": [],
   "source": [
    "giga20 = pd.read_csv(\n",
    "    os.path.join(data_home, 'gigaword_window20-flat.csv.gz'), index_col=0)"
   ]
  },
  {
   "cell_type": "code",
   "execution_count": 43,
   "metadata": {},
   "outputs": [],
   "source": [
    "giga20_l2 = giga20.apply(vsm.length_norm, axis=1)"
   ]
  },
  {
   "cell_type": "code",
   "execution_count": 44,
   "metadata": {},
   "outputs": [],
   "source": [
    "giga20_l2_ppmi = vsm.pmi(giga20_l2)"
   ]
  },
  {
   "cell_type": "code",
   "execution_count": 57,
   "metadata": {},
   "outputs": [
    {
     "name": "stdout",
     "output_type": "stream",
     "text": [
      "(5000, 5000)\n"
     ]
    }
   ],
   "source": [
    "print(giga20.shape)\n",
    "giga20_ppmi_svd = vsm.lsa(giga20_l2_ppmi, k=800)"
   ]
  },
  {
   "cell_type": "code",
   "execution_count": 58,
   "metadata": {},
   "outputs": [
    {
     "name": "stdout",
     "output_type": "stream",
     "text": [
      "========================================\n",
      "wordsim353_reader\n",
      "Evaluation vocab: 418 of 437\n",
      "Spearman r: 0.537\n",
      "========================================\n",
      "mturk287_reader\n",
      "Evaluation vocab: 499 of 499\n",
      "Spearman r: 0.673\n",
      "========================================\n",
      "mturk771_reader\n",
      "Evaluation vocab: 1,113 of 1,113\n",
      "Spearman r: 0.556\n",
      "========================================\n",
      "men_reader\n",
      "Evaluation vocab: 751 of 751\n",
      "Spearman r: 0.660\n",
      "========================================\n",
      "Mean Spearman r: 0.607\n"
     ]
    },
    {
     "data": {
      "text/plain": [
       "{'wordsim353_reader': 0.5370376772829761,\n",
       " 'mturk287_reader': 0.6726188686654195,\n",
       " 'mturk771_reader': 0.5562486339246591,\n",
       " 'men_reader': 0.6602281327756298}"
      ]
     },
     "execution_count": 58,
     "metadata": {},
     "output_type": "execute_result"
    }
   ],
   "source": [
    "full_word_similarity_evaluation(giga20_ppmi_svd, verbose=True)"
   ]
  },
  {
   "cell_type": "markdown",
   "metadata": {},
   "source": [
    "#### LSA\n",
    "A common pattern in the literature is to apply PMI first. The PMI values tend to give the count matrix a normal (Gaussian) distribution that better satisfies the assumptions underlying SVD:"
   ]
  },
  {
   "cell_type": "code",
   "execution_count": 13,
   "metadata": {},
   "outputs": [],
   "source": [
    "imdb20_l2 = imdb20.apply(vsm.length_norm, axis=1)"
   ]
  },
  {
   "cell_type": "code",
   "execution_count": 14,
   "metadata": {},
   "outputs": [],
   "source": [
    "imdb20_l2_ppmi = vsm.pmi(imdb20_l2)"
   ]
  },
  {
   "cell_type": "code",
   "execution_count": 24,
   "metadata": {},
   "outputs": [],
   "source": [
    "imdb20_ppmi_svd = vsm.lsa(imdb20_l2_ppmi, k=2000)"
   ]
  },
  {
   "cell_type": "code",
   "execution_count": 19,
   "metadata": {},
   "outputs": [
    {
     "name": "stdout",
     "output_type": "stream",
     "text": [
      "(5000, 5000)\n"
     ]
    }
   ],
   "source": [
    "print(imdb20.shape)"
   ]
  },
  {
   "cell_type": "code",
   "execution_count": 40,
   "metadata": {},
   "outputs": [
    {
     "name": "stderr",
     "output_type": "stream",
     "text": [
      "Iteration 2000: loss: 0.46521537750959396"
     ]
    }
   ],
   "source": [
    "imdb_l2_ppmi_svd_ae = TfAutoencoder(\n",
    "    max_iter=2000, hidden_dim=500, eta=0.01).fit(imdb20_ppmi_svd)"
   ]
  },
  {
   "cell_type": "code",
   "execution_count": 41,
   "metadata": {},
   "outputs": [
    {
     "name": "stdout",
     "output_type": "stream",
     "text": [
      "========================================\n",
      "wordsim353_reader\n",
      "Evaluation vocab: 418 of 437\n",
      "Spearman r: 0.457\n",
      "========================================\n",
      "mturk287_reader\n",
      "Evaluation vocab: 499 of 499\n",
      "Spearman r: 0.537\n",
      "========================================\n",
      "mturk771_reader\n",
      "Evaluation vocab: 1,113 of 1,113\n",
      "Spearman r: 0.470\n",
      "========================================\n",
      "men_reader\n",
      "Evaluation vocab: 751 of 751\n",
      "Spearman r: 0.566\n",
      "========================================\n",
      "Mean Spearman r: 0.508\n"
     ]
    },
    {
     "data": {
      "text/plain": [
       "{'wordsim353_reader': 0.4567673303713142,\n",
       " 'mturk287_reader': 0.5374832152614643,\n",
       " 'mturk771_reader': 0.47002482072004637,\n",
       " 'men_reader': 0.5660522454418069}"
      ]
     },
     "execution_count": 41,
     "metadata": {},
     "output_type": "execute_result"
    }
   ],
   "source": [
    "full_word_similarity_evaluation(imdb_l2_ppmi_svd_ae, verbose=True)"
   ]
  },
  {
   "cell_type": "code",
   "execution_count": 25,
   "metadata": {},
   "outputs": [
    {
     "name": "stdout",
     "output_type": "stream",
     "text": [
      "========================================\n",
      "wordsim353_reader\n",
      "Evaluation vocab: 418 of 437\n",
      "Spearman r: 0.563\n",
      "========================================\n",
      "mturk287_reader\n",
      "Evaluation vocab: 499 of 499\n",
      "Spearman r: 0.623\n",
      "========================================\n",
      "mturk771_reader\n",
      "Evaluation vocab: 1,113 of 1,113\n",
      "Spearman r: 0.563\n",
      "========================================\n",
      "men_reader\n",
      "Evaluation vocab: 751 of 751\n",
      "Spearman r: 0.654\n",
      "========================================\n",
      "Mean Spearman r: 0.601\n"
     ]
    },
    {
     "data": {
      "text/plain": [
       "{'wordsim353_reader': 0.5633692369609065,\n",
       " 'mturk287_reader': 0.6228293370300938,\n",
       " 'mturk771_reader': 0.5626968523789865,\n",
       " 'men_reader': 0.654496284665301}"
      ]
     },
     "execution_count": 25,
     "metadata": {},
     "output_type": "execute_result"
    }
   ],
   "source": [
    "full_word_similarity_evaluation(imdb20_ppmi_svd, verbose=True)"
   ]
  },
  {
   "cell_type": "markdown",
   "metadata": {},
   "source": [
    "#### Glove"
   ]
  },
  {
   "cell_type": "code",
   "execution_count": 14,
   "metadata": {},
   "outputs": [],
   "source": [
    "from mittens import GloVe"
   ]
  },
  {
   "cell_type": "code",
   "execution_count": 15,
   "metadata": {},
   "outputs": [
    {
     "name": "stderr",
     "output_type": "stream",
     "text": [
      "Iteration 100: loss: 949373.6255"
     ]
    }
   ],
   "source": [
    "glove_model = GloVe()\n",
    "\n",
    "imdb20_glv = glove_model.fit(imdb20.values)\n",
    "\n",
    "imdb20_glv = pd.DataFrame(imdb20_glv, index=imdb20.index)"
   ]
  },
  {
   "cell_type": "code",
   "execution_count": 20,
   "metadata": {},
   "outputs": [
    {
     "name": "stdout",
     "output_type": "stream",
     "text": [
      "(5000, 100)\n"
     ]
    }
   ],
   "source": [
    "print(imdb20_glv.shape)"
   ]
  },
  {
   "cell_type": "code",
   "execution_count": 21,
   "metadata": {},
   "outputs": [
    {
     "name": "stdout",
     "output_type": "stream",
     "text": [
      "========================================\n",
      "wordsim353_reader\n",
      "Evaluation vocab: 418 of 437\n",
      "Spearman r: 0.046\n",
      "========================================\n",
      "mturk287_reader\n",
      "Evaluation vocab: 499 of 499\n",
      "Spearman r: 0.280\n",
      "========================================\n",
      "mturk771_reader\n",
      "Evaluation vocab: 1,113 of 1,113\n",
      "Spearman r: 0.134\n",
      "========================================\n",
      "men_reader\n",
      "Evaluation vocab: 751 of 751\n",
      "Spearman r: 0.119\n",
      "========================================\n",
      "Mean Spearman r: 0.145\n"
     ]
    },
    {
     "data": {
      "text/plain": [
       "{'wordsim353_reader': 0.04605244129193265,\n",
       " 'mturk287_reader': 0.2803686159040967,\n",
       " 'mturk771_reader': 0.13355032890726384,\n",
       " 'men_reader': 0.11886951155571018}"
      ]
     },
     "execution_count": 21,
     "metadata": {},
     "output_type": "execute_result"
    }
   ],
   "source": [
    "full_word_similarity_evaluation(imdb20_glv, verbose=True)"
   ]
  },
  {
   "cell_type": "markdown",
   "metadata": {},
   "source": [
    "#### Autoencoders"
   ]
  },
  {
   "cell_type": "code",
   "execution_count": 27,
   "metadata": {},
   "outputs": [],
   "source": [
    "from tf_autoencoder import TfAutoencoder"
   ]
  },
  {
   "cell_type": "code",
   "execution_count": 22,
   "metadata": {},
   "outputs": [],
   "source": [
    "imdb20_l2 = imdb20.apply(vsm.length_norm, axis=1)"
   ]
  },
  {
   "cell_type": "code",
   "execution_count": 23,
   "metadata": {},
   "outputs": [],
   "source": [
    "imdb20_l2_svd100 = vsm.lsa(imdb20_l2, k=100)"
   ]
  },
  {
   "cell_type": "code",
   "execution_count": 26,
   "metadata": {},
   "outputs": [
    {
     "name": "stderr",
     "output_type": "stream",
     "text": [
      "Iteration 1000: loss: 0.0037961083580739796"
     ]
    }
   ],
   "source": [
    "imdb_l2_svd100_ae = TfAutoencoder(\n",
    "    max_iter=1000, hidden_dim=50, eta=0.01).fit(imdb20_l2_svd100)"
   ]
  },
  {
   "cell_type": "code",
   "execution_count": 27,
   "metadata": {},
   "outputs": [
    {
     "name": "stdout",
     "output_type": "stream",
     "text": [
      "========================================\n",
      "wordsim353_reader\n",
      "Evaluation vocab: 418 of 437\n",
      "Spearman r: 0.202\n",
      "========================================\n",
      "mturk287_reader\n",
      "Evaluation vocab: 499 of 499\n",
      "Spearman r: 0.261\n",
      "========================================\n",
      "mturk771_reader\n",
      "Evaluation vocab: 1,113 of 1,113\n",
      "Spearman r: 0.172\n",
      "========================================\n",
      "men_reader\n",
      "Evaluation vocab: 751 of 751\n",
      "Spearman r: 0.246\n",
      "========================================\n",
      "Mean Spearman r: 0.220\n"
     ]
    },
    {
     "data": {
      "text/plain": [
       "{'wordsim353_reader': 0.20221759603544312,\n",
       " 'mturk287_reader': 0.2609484293369752,\n",
       " 'mturk771_reader': 0.17222199323904994,\n",
       " 'men_reader': 0.24642659424147836}"
      ]
     },
     "execution_count": 27,
     "metadata": {},
     "output_type": "execute_result"
    }
   ],
   "source": [
    "full_word_similarity_evaluation(imdb_l2_svd100_ae, verbose=True)"
   ]
  },
  {
   "cell_type": "markdown",
   "metadata": {},
   "source": [
    "#### retrofitting"
   ]
  },
  {
   "cell_type": "code",
   "execution_count": 29,
   "metadata": {},
   "outputs": [],
   "source": [
    "import retrofitting\n",
    "from retrofitting import Retrofitter\n",
    "from collections import defaultdict\n",
    "from nltk.corpus import wordnet as wn"
   ]
  },
  {
   "cell_type": "code",
   "execution_count": 30,
   "metadata": {},
   "outputs": [],
   "source": [
    "wn_retro = Retrofitter(verbose=True)"
   ]
  },
  {
   "cell_type": "code",
   "execution_count": 31,
   "metadata": {},
   "outputs": [],
   "source": [
    "def get_wordnet_edges():\n",
    "    edges = defaultdict(set)\n",
    "    for ss in wn.all_synsets():\n",
    "        lem_names = {lem.name() for lem in ss.lemmas()}\n",
    "        for lem in lem_names:\n",
    "            edges[lem] |= lem_names\n",
    "    return edges"
   ]
  },
  {
   "cell_type": "code",
   "execution_count": 32,
   "metadata": {},
   "outputs": [],
   "source": [
    "wn_edges = get_wordnet_edges()"
   ]
  },
  {
   "cell_type": "code",
   "execution_count": 33,
   "metadata": {},
   "outputs": [],
   "source": [
    "def convert_edges_to_indices(edges, Q):\n",
    "    lookup = dict(zip(Q.index, range(Q.shape[0])))\n",
    "    index_edges = defaultdict(set)\n",
    "    for start, finish_nodes in edges.items():\n",
    "        s = lookup.get(start)\n",
    "        if s:\n",
    "            f = {lookup[n] for n in finish_nodes if n in lookup}\n",
    "            if f:\n",
    "                index_edges[s] = f\n",
    "    return index_edges"
   ]
  },
  {
   "cell_type": "code",
   "execution_count": 34,
   "metadata": {},
   "outputs": [],
   "source": [
    "wn_index_edges = convert_edges_to_indices(wn_edges, imdb20_ppmi_svd)"
   ]
  },
  {
   "cell_type": "code",
   "execution_count": 35,
   "metadata": {},
   "outputs": [
    {
     "name": "stderr",
     "output_type": "stream",
     "text": [
      "Converged at iteration 9; change was 0.0055 "
     ]
    }
   ],
   "source": [
    "imdb20_retro = wn_retro.fit(imdb20_ppmi_svd, wn_index_edges)"
   ]
  },
  {
   "cell_type": "code",
   "execution_count": 36,
   "metadata": {},
   "outputs": [
    {
     "name": "stdout",
     "output_type": "stream",
     "text": [
      "========================================\n",
      "wordsim353_reader\n",
      "Evaluation vocab: 418 of 437\n",
      "Spearman r: 0.532\n",
      "========================================\n",
      "mturk287_reader\n",
      "Evaluation vocab: 499 of 499\n",
      "Spearman r: 0.637\n",
      "========================================\n",
      "mturk771_reader\n",
      "Evaluation vocab: 1,113 of 1,113\n",
      "Spearman r: 0.542\n",
      "========================================\n",
      "men_reader\n",
      "Evaluation vocab: 751 of 751\n",
      "Spearman r: 0.638\n",
      "========================================\n",
      "Mean Spearman r: 0.587\n"
     ]
    },
    {
     "data": {
      "text/plain": [
       "{'wordsim353_reader': 0.5324644306730004,\n",
       " 'mturk287_reader': 0.6368203796993187,\n",
       " 'mturk771_reader': 0.5422195350983493,\n",
       " 'men_reader': 0.638481431829129}"
      ]
     },
     "execution_count": 36,
     "metadata": {},
     "output_type": "execute_result"
    }
   ],
   "source": [
    "full_word_similarity_evaluation(imdb20_retro, verbose=True)"
   ]
  },
  {
   "cell_type": "code",
   "execution_count": null,
   "metadata": {},
   "outputs": [],
   "source": []
  }
 ],
 "metadata": {
  "kernelspec": {
   "display_name": "Python 3",
   "language": "python",
   "name": "python3"
  },
  "language_info": {
   "codemirror_mode": {
    "name": "ipython",
    "version": 3
   },
   "file_extension": ".py",
   "mimetype": "text/x-python",
   "name": "python",
   "nbconvert_exporter": "python",
   "pygments_lexer": "ipython3",
   "version": "3.6.3"
  },
  "widgets": {
   "state": {},
   "version": "1.1.2"
  }
 },
 "nbformat": 4,
 "nbformat_minor": 2
}
